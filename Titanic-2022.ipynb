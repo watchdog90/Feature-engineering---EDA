{
 "cells": [
  {
   "cell_type": "markdown",
   "metadata": {},
   "source": [
    "# Task(1): Data cleaning"
   ]
  },
  {
   "cell_type": "markdown",
   "metadata": {},
   "source": [
    "## (1) Import titanic data"
   ]
  },
  {
   "cell_type": "code",
   "execution_count": 4,
   "metadata": {},
   "outputs": [
    {
     "name": "stdout",
     "output_type": "stream",
     "text": [
      "     Survived    Pclass                                               Name     Sex   Age  Siblings/Spouses Aboard  Parents/Children Aboard     Fare\n",
      "0           0  3 pclass                             Mr. Owen Harris Braund    male  22.0                        1                        0   7.2500\n",
      "1           1  1 pclass  Mrs. John Bradley (Florence Briggs Thayer) Cum...  female  38.0                        1                        0  71.2833\n",
      "2           1  3 pclass                              Miss. Laina Heikkinen  female  26.0                        0                        0   7.9250\n",
      "3           1     1 pcl        Mrs. Jacques Heath (Lily May Peel) Futrelle     NaN  35.0                        1                        0  53.1000\n",
      "4           0  3 pclass                            Mr. William Henry Allen    male  35.0                        0                        0   8.0500\n",
      "..        ...       ...                                                ...     ...   ...                      ...                      ...      ...\n",
      "882         0  2 pclass                               Rev. Juozas Montvila    male  27.0                        0                        0  13.0000\n",
      "883         1  1-pclass                        Miss. Margaret Edith Graham  female  19.0                        0                        0  30.0000\n",
      "884         0    3-pcla                     Miss. Catherine Helen Johnston  female   7.0                        1                        2  23.4500\n",
      "885         1  1-pclass                               Mr. Karl Howell Behr    male  26.0                        0                        0  30.0000\n",
      "886         0    3-pcla                                 Mr. Patrick Dooley    male  32.0                        0                        0   7.7500\n",
      "\n",
      "[887 rows x 8 columns]\n"
     ]
    }
   ],
   "source": [
    "import pandas as pd\n",
    "import numpy as np\n",
    "from matplotlib import pyplot as plt\n",
    "import matplotlib\n",
    "import seaborn as sns\n",
    "pd.set_option('expand_frame_repr', False) \n",
    "import warnings\n",
    "warnings.filterwarnings('ignore')\n",
    "\n",
    "df = pd.read_csv(\n",
    "    r'.\\data.csv',\n",
    "    encoding='utf8',\n",
    ")\n",
    "print(df)"
   ]
  },
  {
   "cell_type": "code",
   "execution_count": 2,
   "metadata": {},
   "outputs": [
    {
     "name": "stdout",
     "output_type": "stream",
     "text": [
      "Survived                     int64\n",
      "Pclass                      object\n",
      "Name                        object\n",
      "Sex                         object\n",
      "Age                        float64\n",
      "Siblings/Spouses Aboard      int64\n",
      "Parents/Children Aboard      int64\n",
      "Fare                       float64\n",
      "dtype: object\n"
     ]
    }
   ],
   "source": [
    "print(df.dtypes)"
   ]
  },
  {
   "cell_type": "code",
   "execution_count": 3,
   "metadata": {},
   "outputs": [
    {
     "name": "stdout",
     "output_type": "stream",
     "text": [
      "         Survived         Age  Siblings/Spouses Aboard  Parents/Children Aboard           Fare\n",
      "count  887.000000  887.000000               887.000000               887.000000     887.000000\n",
      "mean     0.385569   31.336156                 0.466742                 0.331454   10517.085578\n",
      "std      0.487004   28.162654                 1.130717                 0.830127   81274.234057\n",
      "min      0.000000  -56.000000                -8.000000                -5.000000       0.000000\n",
      "25%      0.000000   20.000000                 0.000000                 0.000000       7.925000\n",
      "50%      0.000000   28.000000                 0.000000                 0.000000      14.500000\n",
      "75%      1.000000   38.000000                 1.000000                 0.000000      31.387500\n",
      "max      1.000000  240.000000                 8.000000                 6.000000  800069.550000\n"
     ]
    }
   ],
   "source": [
    "print(df.describe())"
   ]
  },
  {
   "cell_type": "markdown",
   "metadata": {},
   "source": [
    "## (2)Visualizing and clean abnormal data"
   ]
  },
  {
   "cell_type": "markdown",
   "metadata": {},
   "source": [
    "### 2.1 Plot a scatter plot of survived against age column"
   ]
  },
  {
   "cell_type": "code",
   "execution_count": 4,
   "metadata": {},
   "outputs": [
    {
     "data": {
      "image/png": "[encoded data removed]",
      "text/plain": [
       "<Figure size 432x288 with 1 Axes>"
      ]
     },
     "metadata": {
      "needs_background": "light"
     },
     "output_type": "display_data"
    }
   ],
   "source": [
    "plt.scatter(df['Survived'], df['Age'], c='blue', alpha=0.5)\n",
    "plt.xlabel(\"Survived\")\n",
    "plt.ylabel(\"Age\")\n",
    "plt.show()"
   ]
  },
  {
   "cell_type": "markdown",
   "metadata": {},
   "source": [
    "### clean abnormal data: It may not be possible for a person to have an age of less than 0 or greater than 100."
   ]
  },
  {
   "cell_type": "code",
   "execution_count": 5,
   "metadata": {},
   "outputs": [
    {
     "name": "stdout",
     "output_type": "stream",
     "text": [
      "(875, 8)\n"
     ]
    }
   ],
   "source": [
    "# ==> Create an array of indices where age is greater than 100\n",
    "indice1 = df[df['Age'] > 100].index\n",
    "# ==> Drop the records from the data based on the indices and create a new dataframe\n",
    "df_01 = df.drop(indice1)\n",
    "print(df_01.shape)"
   ]
  },
  {
   "cell_type": "code",
   "execution_count": 6,
   "metadata": {},
   "outputs": [
    {
     "name": "stdout",
     "output_type": "stream",
     "text": [
      "(863, 8)\n"
     ]
    }
   ],
   "source": [
    "# ==> Create an array of indices where age is less than 0\n",
    "indice2 = df_01[df_01['Age'] < 0].index\n",
    "# ==> Drop the records from the data based on the indices and create a new dataframe\n",
    "df = df_01.drop(indice2)\n",
    "print(df.shape)"
   ]
  },
  {
   "cell_type": "markdown",
   "metadata": {},
   "source": [
    "### 2.2 Plot a scatter plot of age against Parents/Children Aboard column"
   ]
  },
  {
   "cell_type": "code",
   "execution_count": 7,
   "metadata": {},
   "outputs": [
    {
     "data": {
      "text/plain": [
       "Text(0, 0.5, 'Parents/Children Aboard')"
      ]
     },
     "execution_count": 7,
     "metadata": {},
     "output_type": "execute_result"
    },
    {
     "data": {
      "image/png": "[encoded data removed]",
      "text/plain": [
       "<Figure size 432x288 with 1 Axes>"
      ]
     },
     "metadata": {
      "needs_background": "light"
     },
     "output_type": "display_data"
    }
   ],
   "source": [
    "plt.scatter(df['Age'], df['Parents/Children Aboard'], c='blue', alpha=0.5)\n",
    "plt.xlabel(\"Age\")\n",
    "plt.ylabel(\"Parents/Children Aboard\")"
   ]
  },
  {
   "cell_type": "markdown",
   "metadata": {},
   "source": [
    "### clean abnormal data: It may not be possible for a person to have the number of Parents/Children Aboard of less than 0."
   ]
  },
  {
   "cell_type": "code",
   "execution_count": 8,
   "metadata": {},
   "outputs": [
    {
     "name": "stdout",
     "output_type": "stream",
     "text": [
      "(851, 8)\n"
     ]
    }
   ],
   "source": [
    "# ==> Create an array of indices where Parents/Children Aboard is less than 0\n",
    "indice1 = df[df['Parents/Children Aboard'] < 0].index\n",
    "# ==> Drop the records from the data based on the indices and create a new dataframe\n",
    "df = df.drop(indice1)\n",
    "print(df.shape)"
   ]
  },
  {
   "cell_type": "markdown",
   "metadata": {},
   "source": [
    "### 2.3 Plot a scatter plot of age against Siblings/Spouses Aboard column"
   ]
  },
  {
   "cell_type": "code",
   "execution_count": 9,
   "metadata": {},
   "outputs": [
    {
     "data": {
      "text/plain": [
       "Text(0, 0.5, 'Siblings/Spouses Aboard')"
      ]
     },
     "execution_count": 9,
     "metadata": {},
     "output_type": "execute_result"
    },
    {
     "data": {
      "image/png": "[encoded data removed]",
      "text/plain": [
       "<Figure size 432x288 with 1 Axes>"
      ]
     },
     "metadata": {
      "needs_background": "light"
     },
     "output_type": "display_data"
    }
   ],
   "source": [
    "plt.scatter(df['Age'], df['Siblings/Spouses Aboard'], c='blue', alpha=0.5)\n",
    "plt.xlabel(\"Age\")\n",
    "plt.ylabel(\"Siblings/Spouses Aboard\")"
   ]
  },
  {
   "cell_type": "markdown",
   "metadata": {},
   "source": [
    "### clean abnormal data: It may not be possible for a person to have the number of Siblings/Spouses Aboard of less than 0."
   ]
  },
  {
   "cell_type": "code",
   "execution_count": 10,
   "metadata": {},
   "outputs": [
    {
     "name": "stdout",
     "output_type": "stream",
     "text": [
      "(840, 8)\n"
     ]
    }
   ],
   "source": [
    "# ==> Create an array of indices where Siblings/Spouses Aboard is less than 0\n",
    "indice1 = df[df['Siblings/Spouses Aboard'] < 0].index\n",
    "# ==> Drop the records from the data based on the indices and create a new dataframe\n",
    "df = df.drop(indice1)\n",
    "print(df.shape)"
   ]
  },
  {
   "cell_type": "code",
   "execution_count": 11,
   "metadata": {},
   "outputs": [],
   "source": [
    "### 2.4 Plot a scatter plot of survived against fare column"
   ]
  },
  {
   "cell_type": "code",
   "execution_count": 12,
   "metadata": {},
   "outputs": [
    {
     "data": {
      "image/png": "[encoded data removed]",
      "text/plain": [
       "<Figure size 432x288 with 1 Axes>"
      ]
     },
     "metadata": {
      "needs_background": "light"
     },
     "output_type": "display_data"
    }
   ],
   "source": [
    "plt.scatter(df['Survived'], df['Fare'], c='blue', alpha=0.5)\n",
    "plt.xlabel(\"Survived\")\n",
    "plt.ylabel(\"Fare\")\n",
    "plt.show()"
   ]
  },
  {
   "cell_type": "code",
   "execution_count": 13,
   "metadata": {},
   "outputs": [
    {
     "name": "stdout",
     "output_type": "stream",
     "text": [
      "count       840.000000\n",
      "mean      11103.153427\n",
      "std       83480.806594\n",
      "min           0.000000\n",
      "25%           7.925000\n",
      "50%          14.454200\n",
      "75%          31.387500\n",
      "max      800069.550000\n",
      "Name: Fare, dtype: float64\n"
     ]
    }
   ],
   "source": [
    "print(df['Fare'].describe())"
   ]
  },
  {
   "cell_type": "markdown",
   "metadata": {},
   "source": [
    "### clean abnormal data: It may not be possible for a person to have the Fare of greater than 10000."
   ]
  },
  {
   "cell_type": "code",
   "execution_count": 14,
   "metadata": {},
   "outputs": [
    {
     "name": "stdout",
     "output_type": "stream",
     "text": [
      "(825, 8)\n"
     ]
    }
   ],
   "source": [
    "indice1 = df[df['Fare'] > 10000].index\n",
    "df = df.drop(indice1)\n",
    "print(df.shape)"
   ]
  },
  {
   "cell_type": "code",
   "execution_count": 15,
   "metadata": {},
   "outputs": [
    {
     "data": {
      "image/png": "[encoded data removed]",
      "text/plain": [
       "<Figure size 432x288 with 1 Axes>"
      ]
     },
     "metadata": {
      "needs_background": "light"
     },
     "output_type": "display_data"
    }
   ],
   "source": [
    "plt.scatter(df['Survived'], df['Fare'], c='blue', alpha=0.5)\n",
    "plt.xlabel(\"Survived\")\n",
    "plt.ylabel(\"Fare\")\n",
    "plt.show()"
   ]
  },
  {
   "cell_type": "markdown",
   "metadata": {},
   "source": [
    "## (3) processing missing (NaN) data"
   ]
  },
  {
   "cell_type": "code",
   "execution_count": 16,
   "metadata": {},
   "outputs": [
    {
     "name": "stdout",
     "output_type": "stream",
     "text": [
      "Sex    12\n",
      "dtype: int64\n"
     ]
    }
   ],
   "source": [
    "# Print the number of nulls\n",
    "null_columns = df.columns[df.isnull().any()]\n",
    "print(df[null_columns].isnull().sum())"
   ]
  },
  {
   "cell_type": "code",
   "execution_count": 17,
   "metadata": {},
   "outputs": [
    {
     "name": "stdout",
     "output_type": "stream",
     "text": [
      "Int64Index([3, 15, 89, 265, 281, 298, 363, 401, 491, 495, 501, 526], dtype='int64')\n"
     ]
    }
   ],
   "source": [
    "# Store the array on indices. Create an array of indices for rows that contain missing interest rate called indices.\n",
    "indices = df[df['Sex'].isnull()].index\n",
    "print(indices)"
   ]
  },
  {
   "cell_type": "code",
   "execution_count": 18,
   "metadata": {},
   "outputs": [
    {
     "name": "stdout",
     "output_type": "stream",
     "text": [
      "male      523\n",
      "female    290\n",
      "Mr.         7\n",
      "Mrs.        3\n",
      "Miss        2\n",
      "Name: Sex, dtype: int64\n"
     ]
    }
   ],
   "source": [
    "df['Name'].str.strip()\n",
    "df['Sex'].fillna((df['Name'].str[:4]), inplace=True)\n",
    "print(df['Sex'].value_counts())"
   ]
  },
  {
   "cell_type": "code",
   "execution_count": 19,
   "metadata": {},
   "outputs": [
    {
     "name": "stdout",
     "output_type": "stream",
     "text": [
      "male      530\n",
      "female    295\n",
      "Name: Sex, dtype: int64\n"
     ]
    }
   ],
   "source": [
    "df['Sex'].str.strip()\n",
    "df['Sex'] = df['Sex'].replace({'Miss': 'female', 'Mrs.': 'female', 'Mr. ': 'male'})\n",
    "print(df['Sex'].value_counts())"
   ]
  },
  {
   "cell_type": "code",
   "execution_count": 20,
   "metadata": {},
   "outputs": [
    {
     "name": "stdout",
     "output_type": "stream",
     "text": [
      "     Survived    Pclass                                               Name     Sex   Age  Siblings/Spouses Aboard  Parents/Children Aboard     Fare\n",
      "0           0  3-pclass                             Mr. Owen Harris Braund    male  22.0                        1                        0   7.2500\n",
      "1           1  1-pclass  Mrs. John Bradley (Florence Briggs Thayer) Cum...  female  38.0                        1                        0  71.2833\n",
      "2           1  3-pclass                              Miss. Laina Heikkinen  female  26.0                        0                        0   7.9250\n",
      "3           1  1-pclass        Mrs. Jacques Heath (Lily May Peel) Futrelle  female  35.0                        1                        0  53.1000\n",
      "4           0  3-pclass                            Mr. William Henry Allen    male  35.0                        0                        0   8.0500\n",
      "..        ...       ...                                                ...     ...   ...                      ...                      ...      ...\n",
      "882         0  2-pclass                               Rev. Juozas Montvila    male  27.0                        0                        0  13.0000\n",
      "883         1  1-pclass                        Miss. Margaret Edith Graham  female  19.0                        0                        0  30.0000\n",
      "884         0  3-pclass                     Miss. Catherine Helen Johnston  female   7.0                        1                        2  23.4500\n",
      "885         1  1-pclass                               Mr. Karl Howell Behr    male  26.0                        0                        0  30.0000\n",
      "886         0  3-pclass                                 Mr. Patrick Dooley    male  32.0                        0                        0   7.7500\n",
      "\n",
      "[825 rows x 8 columns]\n"
     ]
    }
   ],
   "source": [
    "# format column Pclass\n",
    "df['Pclass'].str.strip()\n",
    "df['Pclass']=df['Pclass'].replace({'1 pcl':'1-pclass','1 pcla':'1-pclass','1 pclas':'1-pclass','1 pclass':'1-pclass','1-pcl':'1-pclass','1-pcla':'1-pclass','1-pclas':'1-pclass'})\n",
    "df['Pclass']=df['Pclass'].replace({'2 pcl':'2-pclass','2 pcla':'2-pclass','2 pclas':'2-pclass','2 pclass':'2-pclass','2-pcla':'2-pclass','2-pclas':'2-pclass'})\n",
    "df['Pclass']=df['Pclass'].replace({'3-pcla':'3-pclass','3 pcla':'3-pclass','3 pclas':'3-pclass','3 pclass':'3-pclass','3-pcl':'3-pclass','3-pclas':'3-pclass'})\n",
    "print(df)"
   ]
  },
  {
   "cell_type": "markdown",
   "metadata": {},
   "source": [
    "# Task(2): How does the various factors impact survival: age, sex, social class etc?"
   ]
  },
  {
   "cell_type": "markdown",
   "metadata": {},
   "source": [
    "## Survival by Age Analysis"
   ]
  },
  {
   "cell_type": "code",
   "execution_count": 21,
   "metadata": {},
   "outputs": [
    {
     "data": {
      "image/png": "[encoded data removed]",
      "text/plain": [
       "<Figure size 432x288 with 1 Axes>"
      ]
     },
     "metadata": {
      "needs_background": "light"
     },
     "output_type": "display_data"
    }
   ],
   "source": [
    "# ==> Look at the distribution of age by survival\n",
    "n, bins, patches = plt.hist(x=df['Age'], bins='auto', color='blue',alpha=0.7, rwidth=0.85)\n",
    "plt.xlabel(\"Age\")\n",
    "plt.show()"
   ]
  },
  {
   "cell_type": "code",
   "execution_count": 22,
   "metadata": {},
   "outputs": [
    {
     "data": {
      "image/png": "[encoded data removed]",
      "text/plain": [
       "<Figure size 432x288 with 1 Axes>"
      ]
     },
     "metadata": {
      "needs_background": "light"
     },
     "output_type": "display_data"
    }
   ],
   "source": [
    "age_impact = sns.boxplot(data=df, x='Survived', y='Age')\n",
    "age_impact.set(title='Distribution of Age by Survival', xlabel = 'Survival', ylabel = 'Age', xticklabels = ['Non-Survived', 'Survived'])\n",
    "plt.show()"
   ]
  },
  {
   "cell_type": "code",
   "execution_count": 23,
   "metadata": {},
   "outputs": [
    {
     "data": {
      "image/png": "[encoded data removed]",
      "text/plain": [
       "<Figure size 432x288 with 1 Axes>"
      ]
     },
     "metadata": {
      "needs_background": "light"
     },
     "output_type": "display_data"
    }
   ],
   "source": [
    "import seaborn as sns\n",
    "age_impact = sns.regplot('Age','Survived',data = df)\n",
    "plt.show()"
   ]
  },
  {
   "cell_type": "markdown",
   "metadata": {},
   "source": [
    "### Age impact analysis: It looks like the age for the survived is slightly lower in the boxplot and the chances of survival decreased as age increased. This could indicate the younger are more likely to survive in the Titanic accident."
   ]
  },
  {
   "cell_type": "markdown",
   "metadata": {},
   "source": [
    "## Survival by Gender Analysis"
   ]
  },
  {
   "cell_type": "code",
   "execution_count": 24,
   "metadata": {},
   "outputs": [
    {
     "name": "stdout",
     "output_type": "stream",
     "text": [
      "Survived    0    1  All\n",
      "Sex                    \n",
      "female     72  223  295\n",
      "male      429  101  530\n",
      "All       501  324  825\n"
     ]
    }
   ],
   "source": [
    "# Create a cross table of the column Sex and Survived\n",
    "print(pd.crosstab(df['Sex'], df['Survived'], margins=True,))"
   ]
  },
  {
   "cell_type": "code",
   "execution_count": 25,
   "metadata": {},
   "outputs": [
    {
     "name": "stdout",
     "output_type": "stream",
     "text": [
      "Survived         0         1\n",
      "Sex                         \n",
      "female    0.244068  0.755932\n",
      "male      0.809434  0.190566\n"
     ]
    }
   ],
   "source": [
    "# Create a cross table of the column Sex and Survived by percentage\n",
    "print(pd.crosstab(df['Sex'], df['Survived'], normalize='index'))"
   ]
  },
  {
   "cell_type": "code",
   "execution_count": 26,
   "metadata": {},
   "outputs": [
    {
     "data": {
      "image/png": "[encoded data removed]",
      "text/plain": [
       "<Figure size 720x360 with 1 Axes>"
      ]
     },
     "metadata": {
      "needs_background": "light"
     },
     "output_type": "display_data"
    }
   ],
   "source": [
    "gender_impact = sns.catplot('Sex','Survived',data=df,kind='bar',aspect=2)\n",
    "plt.ylabel(\"Survival Rate\")\n",
    "plt.show()"
   ]
  },
  {
   "cell_type": "markdown",
   "metadata": {},
   "source": [
    "### Sex impact analysis: It looks like the female are more likely to survived (75.6%) compared to the male (19%), this may partly because lifeboats are given to the women and children first. \n",
    "( \"Hadn't we better get the women and children into the boats, sir?\" - Captain Smith)"
   ]
  },
  {
   "cell_type": "markdown",
   "metadata": {},
   "source": [
    "## Survival Analysis by Social class "
   ]
  },
  {
   "cell_type": "code",
   "execution_count": 27,
   "metadata": {},
   "outputs": [
    {
     "name": "stdout",
     "output_type": "stream",
     "text": [
      "Survived    0    1  All\n",
      "Pclass                 \n",
      "1-pclass   70  130  200\n",
      "2-pclass   94   80  174\n",
      "3-pclass  337  114  451\n",
      "All       501  324  825\n"
     ]
    }
   ],
   "source": [
    "# Create a cross table of the Pclass and Survived\n",
    "print(pd.crosstab(df['Pclass'], df['Survived'], margins=True))"
   ]
  },
  {
   "cell_type": "code",
   "execution_count": 28,
   "metadata": {},
   "outputs": [
    {
     "name": "stdout",
     "output_type": "stream",
     "text": [
      "Survived         0         1\n",
      "Pclass                      \n",
      "1-pclass  0.350000  0.650000\n",
      "2-pclass  0.540230  0.459770\n",
      "3-pclass  0.747228  0.252772\n"
     ]
    }
   ],
   "source": [
    "# Create a cross table of the Pclass and Survived\n",
    "print(pd.crosstab(df['Pclass'], df['Survived'], normalize='index'))"
   ]
  },
  {
   "cell_type": "code",
   "execution_count": 29,
   "metadata": {},
   "outputs": [
    {
     "data": {
      "image/png": "[encoded data removed]",
      "text/plain": [
       "<Figure size 1080x360 with 1 Axes>"
      ]
     },
     "metadata": {
      "needs_background": "light"
     },
     "output_type": "display_data"
    }
   ],
   "source": [
    "Pclass_impact = sns.catplot('Pclass','Survived',data=df,kind='bar',aspect=3 , order = ['1-pclass','2-pclass','3-pclass'])\n",
    "plt.ylabel(\"Survival Rate\")\n",
    "plt.show()"
   ]
  },
  {
   "cell_type": "code",
   "execution_count": 30,
   "metadata": {},
   "outputs": [
    {
     "data": {
      "image/png": "[encoded data removed]",
      "text/plain": [
       "<Figure size 1080x360 with 1 Axes>"
      ]
     },
     "metadata": {
      "needs_background": "light"
     },
     "output_type": "display_data"
    }
   ],
   "source": [
    "Pclass_impact = sns.catplot('Pclass','Survived',data = df, kind = 'point', aspect = 3,order = ['1-pclass','2-pclass','3-pclass'])\n",
    "plt.ylabel(\"Survival Rate\")\n",
    "plt.xlabel(\"Social Class\")\n",
    "plt.show()"
   ]
  },
  {
   "cell_type": "markdown",
   "metadata": {},
   "source": [
    "### Social class impact analysis: The 1st-class had the highest chance to survived (65%) compared to the the lowest chance of survival (25%)."
   ]
  },
  {
   "cell_type": "markdown",
   "metadata": {},
   "source": [
    "## Survival Analysis by With Family or Travel Alone"
   ]
  },
  {
   "cell_type": "code",
   "execution_count": 31,
   "metadata": {},
   "outputs": [],
   "source": [
    "df['With_Family'] = df['Siblings/Spouses Aboard'] + df['Parents/Children Aboard']\n",
    "df['With_Family'].loc[df['With_Family'] > 0] = 'Family'\n",
    "df['With_Family'].loc[df['With_Family'] == 0] = 'Alone'"
   ]
  },
  {
   "cell_type": "code",
   "execution_count": 32,
   "metadata": {},
   "outputs": [
    {
     "name": "stdout",
     "output_type": "stream",
     "text": [
      "Survived       0    1  All\n",
      "With_Family               \n",
      "Alone        351  155  506\n",
      "Family       150  169  319\n",
      "All          501  324  825\n",
      "Survived            0         1\n",
      "With_Family                    \n",
      "Alone        0.693676  0.306324\n",
      "Family       0.470219  0.529781\n"
     ]
    }
   ],
   "source": [
    "# Create a cross table of the With_Family and Survived\n",
    "print(pd.crosstab(df['With_Family'], df['Survived'], margins=True))\n",
    "# Create a cross table of the With_Family and Survived by percentage\n",
    "print(pd.crosstab(df['With_Family'], df['Survived'], normalize='index'))"
   ]
  },
  {
   "cell_type": "code",
   "execution_count": 33,
   "metadata": {},
   "outputs": [
    {
     "data": {
      "image/png": "[encoded data removed]",
      "text/plain": [
       "<Figure size 720x360 with 1 Axes>"
      ]
     },
     "metadata": {
      "needs_background": "light"
     },
     "output_type": "display_data"
    }
   ],
   "source": [
    "Family_impact = sns.catplot('With_Family','Survived',data=df,kind='bar',aspect=2)\n",
    "plt.ylabel(\"Survival Rate\")\n",
    "plt.show()"
   ]
  },
  {
   "cell_type": "markdown",
   "metadata": {},
   "source": [
    "### Travel with family impact analysis: It looks like people travelled with family are more likely to survive (53%) compared to the people travelled alone (31%)"
   ]
  },
  {
   "cell_type": "markdown",
   "metadata": {},
   "source": [
    "# Task(3): What are some potential correlations in the dataset between these factors? How can we account for them?"
   ]
  },
  {
   "cell_type": "markdown",
   "metadata": {},
   "source": [
    "## Correlations between Age and Gender with Survival"
   ]
  },
  {
   "cell_type": "code",
   "execution_count": 34,
   "metadata": {},
   "outputs": [
    {
     "data": {
      "image/png": "[encoded data removed]",
      "text/plain": [
       "<Figure size 432x288 with 1 Axes>"
      ]
     },
     "metadata": {
      "needs_background": "light"
     },
     "output_type": "display_data"
    }
   ],
   "source": [
    "Age_Gender_Corr = sns.boxplot(data=df, x='Sex', y='Age',hue = 'Survived')\n",
    "Age_Gender_Corr.set(title='Distribution of Age and Gender by Survival')\n",
    "plt.show()"
   ]
  },
  {
   "cell_type": "markdown",
   "metadata": {},
   "source": [
    "### Age_Gender_Corr: From the figure above, it shows that the order female group showed higher survival chance than the younger female group. For the male group, the trend is opposite."
   ]
  },
  {
   "cell_type": "markdown",
   "metadata": {},
   "source": [
    "## Correlations between Age and Social class with Survival"
   ]
  },
  {
   "cell_type": "code",
   "execution_count": 35,
   "metadata": {},
   "outputs": [
    {
     "data": {
      "image/png": "[encoded data removed]",
      "text/plain": [
       "<Figure size 432x288 with 1 Axes>"
      ]
     },
     "metadata": {
      "needs_background": "light"
     },
     "output_type": "display_data"
    }
   ],
   "source": [
    "Age_Class_Corr = sns.boxplot(data=df, x='Pclass', y='Age',hue = 'Survived',order = ['1-pclass','2-pclass','3-pclass'])\n",
    "Age_Class_Corr.set(title='Distribution of Age and Gender by Survival')\n",
    "plt.show()"
   ]
  },
  {
   "cell_type": "markdown",
   "metadata": {},
   "source": [
    "### Age_Class_Corr: From the figure above, it shows that the younger had a higher survival chance for all three classes."
   ]
  },
  {
   "cell_type": "markdown",
   "metadata": {},
   "source": [
    "## Correlations between Age and With_Family with Survival"
   ]
  },
  {
   "cell_type": "code",
   "execution_count": 36,
   "metadata": {},
   "outputs": [
    {
     "data": {
      "image/png": "[encoded data removed]",
      "text/plain": [
       "<Figure size 432x288 with 1 Axes>"
      ]
     },
     "metadata": {
      "needs_background": "light"
     },
     "output_type": "display_data"
    }
   ],
   "source": [
    "Age_Family_Corr = sns.boxplot(data=df, x='With_Family', y='Age',hue = 'Survived')\n",
    "Age_Family_Corr.set(title='Distribution of Age and With_Family by Survival')\n",
    "plt.show()"
   ]
  },
  {
   "cell_type": "markdown",
   "metadata": {},
   "source": [
    "### Age_Family_Corr: From the figure above, it shows that there is no clear trend for the correlations between age and travel with family. For people who travel alone group, the younger people are more likely to survive than the elder."
   ]
  }
 ],
 "metadata": {
  "kernelspec": {
   "display_name": "Python 3 (ipykernel)",
   "language": "python",
   "name": "python3"
  },
  "language_info": {
   "codemirror_mode": {
    "name": "ipython",
    "version": 3
   },
   "file_extension": ".py",
   "mimetype": "text/x-python",
   "name": "python",
   "nbconvert_exporter": "python",
   "pygments_lexer": "ipython3",
   "version": "3.8.9"
  }
 },
 "nbformat": 4,
 "nbformat_minor": 4
}
